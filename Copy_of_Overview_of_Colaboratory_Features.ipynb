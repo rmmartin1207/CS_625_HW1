{
  "cells": [
    {
      "cell_type": "markdown",
      "metadata": {
        "id": "view-in-github",
        "colab_type": "text"
      },
      "source": [
        "<a href=\"https://colab.research.google.com/github/rmmartin1207/CS_625_HW1/blob/main/Copy_of_Overview_of_Colaboratory_Features.ipynb\" target=\"_parent\"><img src=\"https://colab.research.google.com/assets/colab-badge.svg\" alt=\"Open In Colab\"/></a>"
      ]
    },
    {
      "cell_type": "markdown",
      "metadata": {
        "id": "JyG45Qk3qQLS"
      },
      "source": [
        "# Cells\n",
        "A notebook is a list of cells. Cells contain either explanatory text or executable code and its output. Click a cell to select it."
      ]
    },
    {
      "cell_type": "markdown",
      "metadata": {
        "id": "KR921S_OQSHG"
      },
      "source": [
        "## Code cells\n",
        "Below is a **code cell**. Once the toolbar button indicates CONNECTED, click in the cell to select it and execute the contents in the following ways:\n",
        "\n",
        "* Click the **Play icon** in the left gutter of the cell;\n",
        "* Type **Cmd/Ctrl+Enter** to run the cell in place;\n",
        "* Type **Shift+Enter** to run the cell and move focus to the next cell (adding one if none exists); or\n",
        "* Type **Alt+Enter** to run the cell and insert a new code cell immediately below it.\n",
        "\n",
        "There are additional options for running some or all cells in the **Runtime** menu.\n"
      ]
    },
    {
      "cell_type": "code",
      "execution_count": null,
      "metadata": {
        "cellView": "both",
        "id": "WUtu4316QSHL"
      },
      "outputs": [],
      "source": [
        "a = 10\n",
        "a"
      ]
    },
    {
      "cell_type": "markdown",
      "metadata": {
        "id": "Id6tDF1HQSHD"
      },
      "source": [
        "## Text cells\n",
        "This is a **text cell**. You can **double-click** to edit this cell. Text cells\n",
        "use markdown syntax. To learn more, see our [markdown\n",
        "guide](/notebooks/markdown_guide.ipynb).\n",
        "\"EDIT MADE HERE\".\n",
        "\n",
        "You can also add math to text cells using [LaTeX](http://www.latex-project.org/)\n",
        "to be rendered by [MathJax](https://www.mathjax.org). Just place the statement\n",
        "within a pair of **\\$** signs. For example `$\\sqrt{3x-1}+(1+x)^2$` becomes\n",
        "$\\sqrt{3x-1}+(1+x)^2.$\n",
        "\"EDIT MADE HERE\".\n"
      ]
    },
    {
      "cell_type": "markdown",
      "metadata": {
        "id": "7bqjkGKwQSHW"
      },
      "source": [
        "## Adding and moving cells\n",
        "You can add new cells by using the **+ CODE** and **+ TEXT** buttons that show when you hover between cells. These buttons are also in the toolbar above the notebook where they can be used to add a cell below the currently selected cell.\n",
        "\n",
        "You can move a cell by selecting it and clicking **Cell Up** or **Cell Down** in the top toolbar.\n",
        "\n",
        "Consecutive cells can be selected by \"lasso selection\" by dragging from outside one cell and through the group.  Non-adjacent cells can be selected concurrently by clicking one and then holding down Ctrl while clicking another.  Similarly, using Shift instead of Ctrl will select all intermediate cells."
      ]
    },
    {
      "cell_type": "markdown",
      "metadata": {
        "id": "GOwlZRXEQSHZ"
      },
      "source": [
        "# Working with python\n",
        "Colaboratory is built on top of [Jupyter Notebook](https://jupyter.org/). Below are some examples of convenience functions provided."
      ]
    },
    {
      "cell_type": "markdown",
      "metadata": {
        "id": "RVuqWUXPQSHa"
      },
      "source": [
        "Long running python processes can be interrupted. Run the following cell and select **Runtime -> Interrupt execution** (*hotkey: Cmd/Ctrl-M I*) to stop execution."
      ]
    },
    {
      "cell_type": "code",
      "execution_count": 2,
      "metadata": {
        "cellView": "both",
        "colab": {
          "base_uri": "https://localhost:8080/"
        },
        "id": "d-S-3nYLQSHb",
        "outputId": "ad02317f-73f5-4c92-a5a3-6399a6fcb663"
      },
      "outputs": [
        {
          "output_type": "stream",
          "name": "stdout",
          "text": [
            "Sleeping\n",
            "Done Sleeping\n"
          ]
        }
      ],
      "source": [
        "import time\n",
        "print(\"Sleeping\")\n",
        "time.sleep(30) # sleep for a while; interrupt me!\n",
        "print(\"Done Sleeping\")"
      ]
    },
    {
      "cell_type": "markdown",
      "metadata": {
        "id": "Wej_mEyXQSHc"
      },
      "source": [
        "## System aliases\n",
        "\n",
        "Jupyter includes shortcuts for common operations, such as ls:"
      ]
    },
    {
      "cell_type": "code",
      "execution_count": 3,
      "metadata": {
        "cellView": "both",
        "colab": {
          "base_uri": "https://localhost:8080/"
        },
        "id": "5OCYEvK5QSHf",
        "outputId": "3f3770a9-b028-48ca-dcd4-122a9540caba"
      },
      "outputs": [
        {
          "output_type": "stream",
          "name": "stdout",
          "text": [
            "'['\t\t\t\t      migrate-pubring-from-classic-gpg\n",
            " 7z\t\t\t\t      mingle\n",
            " 7za\t\t\t\t      mispipe\n",
            " 7zr\t\t\t\t      mkdir\n",
            " aclocal\t\t\t      mkfifo\n",
            " aclocal-1.16\t\t\t      mknod\n",
            " acyclic\t\t\t      mktemp\n",
            " add-apt-repository\t\t      mm2gv\n",
            " addpart\t\t\t      more\n",
            " addr2line\t\t\t      mount\n",
            " aggregate_profile\t\t      mountpoint\n",
            " ambiguous_words\t\t      mpexpand\n",
            " apropos\t\t\t      mpic++\n",
            " apt\t\t\t\t      mpicc\n",
            " apt-add-repository\t\t      mpiCC\n",
            " apt-cache\t\t\t      mpicc.openmpi\n",
            " apt-cdrom\t\t\t      mpiCC.openmpi\n",
            " apt-config\t\t\t      mpic++.openmpi\n",
            " apt-extracttemplates\t\t      mpicxx\n",
            " apt-ftparchive\t\t\t      mpicxx.openmpi\n",
            " apt-get\t\t\t      mpiexec\n",
            " apt-key\t\t\t      mpiexec.openmpi\n",
            " apt-mark\t\t\t      mpif77\n",
            " apt-sortpkgs\t\t\t      mpif77.openmpi\n",
            " ar\t\t\t\t      mpif90\n",
            " arch\t\t\t\t      mpif90.openmpi\n",
            " as\t\t\t\t      mpifort\n",
            " asan_symbolize\t\t\t      mpifort.openmpi\n",
            " asan_symbolize-14\t\t      mpijavac\n",
            " autoconf\t\t\t      mpijavac.pl\n",
            " autoheader\t\t\t      mpirun\n",
            " autom4te\t\t\t      mpirun.openmpi\n",
            " automake\t\t\t      mv\n",
            " automake-1.16\t\t\t      mysql_config\n",
            " autoreconf\t\t\t      namei\n",
            " autoscan\t\t\t      nawk\n",
            " autoupdate\t\t\t      nc-config\n",
            " awk\t\t\t\t      ncurses5-config\n",
            " b2\t\t\t\t      ncurses6-config\n",
            " b2sum\t\t\t\t      ncursesw5-config\n",
            " base32\t\t\t\t      ncursesw6-config\n",
            " base64\t\t\t\t      neato\n",
            " basename\t\t\t      neqn\n",
            " basenc\t\t\t\t      netstat\n",
            " bash\t\t\t\t      networkctl\n",
            " bashbug\t\t\t      newgrp\n",
            " bc\t\t\t\t      nice\n",
            " bcomps\t\t\t\t      nisdomainname\n",
            " bcp\t\t\t\t      nl\n",
            " bjam\t\t\t\t      nm\n",
            " bootctl\t\t\t      nns\n",
            " browse\t\t\t\t      nnsd\n",
            " bunzip2\t\t\t      nnslog\n",
            " busctl\t\t\t\t      nohup\n",
            " bzcat\t\t\t\t      nop\n",
            " bzcmp\t\t\t\t      nproc\n",
            " bzdiff\t\t\t\t      nroff\n",
            " bzegrep\t\t\t      nsenter\n",
            " bzexe\t\t\t\t      nslookup\n",
            " bzfgrep\t\t\t      nstat\n",
            " bzgrep\t\t\t\t      nsupdate\n",
            " bzip2\t\t\t\t      numfmt\n",
            " bzip2recover\t\t\t      objcopy\n",
            " bzless\t\t\t\t      objdump\n",
            " bzmore\t\t\t\t      od\n",
            " c++\t\t\t\t      ogdi-config\n",
            " c89\t\t\t\t      ompi-clean\n",
            " c89-gcc\t\t\t      ompi_info\n",
            " c99\t\t\t\t      ompi-server\n",
            " c99-gcc\t\t\t      opalc++\n",
            " captoinfo\t\t\t      opalcc\n",
            " cat\t\t\t\t      opal_wrapper\n",
            " catman\t\t\t\t      open\n",
            " cautious-launcher\t\t      opencv_annotation\n",
            " cc\t\t\t\t      opencv_interactive-calibration\n",
            " ccomps\t\t\t\t      opencv_model_diagnostics\n",
            " c++filt\t\t\t      opencv_version\n",
            " chage\t\t\t\t      opencv_visualisation\n",
            " chattr\t\t\t\t      opencv_waldboost_detector\n",
            " chcon\t\t\t\t      openssl\n",
            " chfn\t\t\t\t      ortecc\n",
            " chgrp\t\t\t\t      orte-clean\n",
            " chmod\t\t\t\t      orted\n",
            " choom\t\t\t\t      orte-info\n",
            " chown\t\t\t\t      orterun\n",
            " chronic\t\t\t      orte-server\n",
            " chrt\t\t\t\t      osage\n",
            " chsh\t\t\t\t      oshc++\n",
            " circo\t\t\t\t      oshcc\n",
            " cksum\t\t\t\t      oshCC\n",
            " clang\t\t\t\t      oshcxx\n",
            " clang++\t\t\t      oshfort\n",
            " clang++-14\t\t\t      oshmem_info\n",
            " clang-14\t\t\t      oshrun\n",
            " clang-cpp-14\t\t\t      p7zip\n",
            " classifier_tester\t\t      pack200\n",
            " clear\t\t\t\t      page\n",
            " clear_console\t\t\t      pager\n",
            " clinfo\t\t\t\t      paperconf\n",
            " cluster\t\t\t      parallel\n",
            " cmake\t\t\t\t      partx\n",
            " cmp\t\t\t\t      passwd\n",
            " cntraining\t\t\t      paste\n",
            " col\t\t\t\t      patch\n",
            " colcrt\t\t\t\t      patchwork\n",
            " colrm\t\t\t\t      pathchk\n",
            " column\t\t\t\t      pcre2-config\n",
            " combine\t\t\t      pcre-config\n",
            " combine_lang_model\t\t      pdb3\n",
            " combine_tessdata\t\t      pdb3.10\n",
            " comm\t\t\t\t      pdb3.12\n",
            " compile_et\t\t\t      pee\n",
            " compose\t\t\t      peekfd\n",
            " corelist\t\t\t      perl\n",
            " cp\t\t\t\t      perl5.34.0\n",
            " cpack\t\t\t\t      perl5.34-x86_64-linux-gnu\n",
            " cpan\t\t\t\t      perlbug\n",
            " cpan5.34-x86_64-linux-gnu\t      perldoc\n",
            " cpp\t\t\t\t      perlivp\n",
            " cpp-11\t\t\t\t      perlthanks\n",
            " c_rehash\t\t\t      pg_config\n",
            " csplit\t\t\t\t      pgrep\n",
            " ctest\t\t\t\t      pic\n",
            " ctstat\t\t\t\t      piconv\n",
            " curl\t\t\t\t      pidof\n",
            " curl-config\t\t\t      pidwait\n",
            " cut\t\t\t\t      pigz\n",
            " cvtsudoers\t\t\t      pinentry\n",
            " dash\t\t\t\t      pinentry-curses\n",
            " date\t\t\t\t      pinky\n",
            " dawg2wordlist\t\t\t      pkaction\n",
            " dbus-cleanup-sockets\t\t      pkcheck\n",
            " dbus-daemon\t\t\t      pkexec\n",
            " dbus-monitor\t\t\t      pkgconf\n",
            " dbus-run-session\t\t      pkg-config\n",
            " dbus-send\t\t\t      pkgdata\n",
            " dbus-update-activation-environment   pkill\n",
            " dbus-uuidgen\t\t\t      pkttyagent\n",
            " dd\t\t\t\t      pl2pm\n",
            " debconf\t\t\t      pldd\n",
            " debconf-apt-progress\t\t      pmap\n",
            " debconf-communicate\t\t      pod2html\n",
            " debconf-copydb\t\t\t      pod2man\n",
            " debconf-escape\t\t\t      pod2text\n",
            " debconf-set-selections\t\t      pod2usage\n",
            " debconf-show\t\t\t      podchecker\n",
            " deb-systemd-helper\t\t      pprof-symbolize\n",
            " deb-systemd-invoke\t\t      pr\n",
            " delpart\t\t\t      preconv\n",
            " delv\t\t\t\t      prename\n",
            " derb\t\t\t\t      print\n",
            " df\t\t\t\t      printenv\n",
            " dh_autotools-dev_restoreconfig       printf\n",
            " dh_autotools-dev_updateconfig\t      prlimit\n",
            " dh_girepository\t\t      procan\n",
            " diff\t\t\t\t      profile2mat\n",
            " diff3\t\t\t\t      protoc\n",
            " diffimg\t\t\t      prove\n",
            " dig\t\t\t\t      prtstat\n",
            " dijkstra\t\t\t      prune\n",
            " dir\t\t\t\t      ps\n",
            " dircolors\t\t\t      pslog\n",
            " dirmngr\t\t\t      pstree\n",
            " dirmngr-client\t\t\t      pstree.x11\n",
            " dirname\t\t\t      pt\n",
            " dmesg\t\t\t\t      ptar\n",
            " dnsdomainname\t\t\t      ptardiff\n",
            " domainname\t\t\t      ptargrep\n",
            " dot\t\t\t\t      ptx\n",
            " dot2gxl\t\t\t      pwd\n",
            " dot_builtins\t\t\t      pwdx\n",
            " dotty\t\t\t\t      py3clean\n",
            " dpkg\t\t\t\t      py3compile\n",
            " dpkg-architecture\t\t      py3versions\n",
            " dpkg-buildflags\t\t      pydoc3\n",
            " dpkg-buildpackage\t\t      pydoc3.10\n",
            " dpkg-checkbuilddeps\t\t      pydoc3.12\n",
            " dpkg-deb\t\t\t      pygettext3\n",
            " dpkg-distaddfile\t\t      pygettext3.10\n",
            " dpkg-divert\t\t\t      pygettext3.12\n",
            " dpkg-genbuildinfo\t\t      python3\n",
            " dpkg-genchanges\t\t      python3.10\n",
            " dpkg-gencontrol\t\t      python3.10-config\n",
            " dpkg-gensymbols\t\t      python3.12\n",
            " dpkg-maintscript-helper\t      python3.12-config\n",
            " dpkg-mergechangelogs\t\t      python3-config\n",
            " dpkg-name\t\t\t      qt-faststart\n",
            " dpkg-parsechangelog\t\t      quickbook\n",
            " dpkg-query\t\t\t      R\n",
            " dpkg-realpath\t\t\t      ranlib\n",
            " dpkg-scanpackages\t\t      rbash\n",
            " dpkg-scansources\t\t      rcp\n",
            " dpkg-shlibdeps\t\t\t      rdma\n",
            " dpkg-source\t\t\t      readelf\n",
            " dpkg-split\t\t\t      readlink\n",
            " dpkg-statoverride\t\t      realpath\n",
            " dpkg-trigger\t\t\t      rename\n",
            " dpkg-vendor\t\t\t      renice\n",
            " dtplite\t\t\t      reset\n",
            " du\t\t\t\t      resizepart\n",
            " dwp\t\t\t\t      resolvectl\n",
            " echo\t\t\t\t      rev\n",
            " edgepaint\t\t\t      rg\n",
            " edit\t\t\t\t      rgrep\n",
            " editor\t\t\t\t      rlogin\n",
            " egrep\t\t\t\t      rm\n",
            " elfedit\t\t\t      rmdir\n",
            " enc2xs\t\t\t\t      rmic\n",
            " encguess\t\t\t      rmid\n",
            " env\t\t\t\t      rmiregistry\n",
            " eqn\t\t\t\t      routef\n",
            " errno\t\t\t\t      routel\n",
            " ex\t\t\t\t      rpcgen\n",
            " expand\t\t\t\t      rrsync\n",
            " expiry\t\t\t\t      Rscript\n",
            " expr\t\t\t\t      rsh\n",
            " f77\t\t\t\t      rsync\n",
            " f95\t\t\t\t      rsync-ssl\n",
            " factor\t\t\t\t      rtstat\n",
            " faillog\t\t\t      runcon\n",
            " fallocate\t\t\t      run-mailcap\n",
            " false\t\t\t\t      run-parts\n",
            " fc-cache\t\t\t      rview\n",
            " fc-cat\t\t\t\t      rvim\n",
            " fc-conflist\t\t\t      savelog\n",
            " fc-list\t\t\t      sccmap\n",
            " fc-match\t\t\t      scp\n",
            " fc-pattern\t\t\t      script\n",
            " fc-query\t\t\t      scriptlive\n",
            " fc-scan\t\t\t      scriptreplay\n",
            " fc-validate\t\t\t      sdiff\n",
            " fdp\t\t\t\t      sed\n",
            " ffmpeg\t\t\t\t      see\n",
            " ffplay\t\t\t\t      select-editor\n",
            " ffprobe\t\t\t      sensible-browser\n",
            " fgrep\t\t\t\t      sensible-editor\n",
            " filan\t\t\t\t      sensible-pager\n",
            " file\t\t\t\t      seq\n",
            " file-rename\t\t\t      serialver\n",
            " fincore\t\t\t      setarch\n",
            " find\t\t\t\t      setpriv\n",
            " findmnt\t\t\t      setsid\n",
            " fio\t\t\t\t      setterm\n",
            " fio2gnuplot\t\t\t      set_unicharset_properties\n",
            " fio-btrace2fio\t\t\t      setxkbmap\n",
            " fio-dedupe\t\t\t      sfdp\n",
            " fio_generate_plots\t\t      sftp\n",
            " fio-genzipf\t\t\t      sg\n",
            " fio_jsonplus_clat2csv\t\t      sh\n",
            " fio-verify-state\t\t      sha1sum\n",
            " flock\t\t\t\t      sha224sum\n",
            " fmt\t\t\t\t      sha256sum\n",
            " fold\t\t\t\t      sha384sum\n",
            " free\t\t\t\t      sha512sum\n",
            " funzip\t\t\t\t      shapeclustering\n",
            " fuser\t\t\t\t      shasum\n",
            " fusermount\t\t\t      shmemc++\n",
            " g++\t\t\t\t      shmemcc\n",
            " g++-11\t\t\t\t      shmemCC\n",
            " gapplication\t\t\t      shmemcxx\n",
            " gc\t\t\t\t      shmemfort\n",
            " gcc\t\t\t\t      shmemrun\n",
            " gcc-11\t\t\t\t      shred\n",
            " gcc-ar\t\t\t\t      shuf\n",
            " gcc-ar-11\t\t\t      size\n",
            " gcc-nm\t\t\t\t      skill\n",
            " gcc-nm-11\t\t\t      slabtop\n",
            " gcc-ranlib\t\t\t      sleep\n",
            " gcc-ranlib-11\t\t\t      slogin\n",
            " gcov\t\t\t\t      snice\n",
            " gcov-11\t\t\t      socat\n",
            " gcov-dump\t\t\t      soelim\n",
            " gcov-dump-11\t\t\t      sort\n",
            " gcov-tool\t\t\t      splain\n",
            " gcov-tool-11\t\t\t      split\n",
            " gdal-config\t\t\t      sponge\n",
            " gdbus\t\t\t\t      ss\n",
            " gdbus-codegen\t\t\t      ssh\n",
            " genbrk\t\t\t\t      ssh-add\n",
            " gencat\t\t\t\t      ssh-agent\n",
            " gencfu\t\t\t\t      ssh-argv0\n",
            " gencnval\t\t\t      ssh-copy-id\n",
            " gendict\t\t\t      ssh-keygen\n",
            " genfio\t\t\t\t      ssh-keyscan\n",
            " genrb\t\t\t\t      stat\n",
            " geos-config\t\t\t      stdbuf\n",
            " geqn\t\t\t\t      streamzip\n",
            " getconf\t\t\t      strings\n",
            " getent\t\t\t\t      strip\n",
            " getopt\t\t\t\t      stty\n",
            " gfortran\t\t\t      su\n",
            " gfortran-11\t\t\t      sudo\n",
            " gh\t\t\t\t      sudoedit\n",
            " gio\t\t\t\t      sudoreplay\n",
            " gio-querymodules\t\t      sum\n",
            " g-ir-annotation-tool\t\t      sync\n",
            " g-ir-compiler\t\t\t      systemctl\n",
            " g-ir-doc-tool\t\t\t      systemd\n",
            " g-ir-generate\t\t\t      systemd-analyze\n",
            " g-ir-inspect\t\t\t      systemd-ask-password\n",
            " g-ir-scanner\t\t\t      systemd-cat\n",
            " git\t\t\t\t      systemd-cgls\n",
            " git-lfs\t\t\t      systemd-cgtop\n",
            " git-receive-pack\t\t      systemd-cryptenroll\n",
            " git-shell\t\t\t      systemd-delta\n",
            " git-upload-archive\t\t      systemd-detect-virt\n",
            " git-upload-pack\t\t      systemd-escape\n",
            " glib-compile-resources\t\t      systemd-id128\n",
            " glib-compile-schemas\t\t      systemd-inhibit\n",
            " glib-genmarshal\t\t      systemd-machine-id-setup\n",
            " glib-gettextize\t\t      systemd-mount\n",
            " glib-mkenums\t\t\t      systemd-notify\n",
            " gmake\t\t\t\t      systemd-path\n",
            " gml2gv\t\t\t\t      systemd-run\n",
            " gobject-query\t\t\t      systemd-socket-activate\n",
            " gold\t\t\t\t      systemd-stdio-bridge\n",
            " google-pprof\t\t\t      systemd-sysext\n",
            " gpasswd\t\t\t      systemd-sysusers\n",
            " gpg\t\t\t\t      systemd-tmpfiles\n",
            " gpg2\t\t\t\t      systemd-tty-ask-password-agent\n",
            " gpg-agent\t\t\t      systemd-umount\n",
            " gpgcompose\t\t\t      tabs\n",
            " gpgconf\t\t\t      tac\n",
            " gpg-connect-agent\t\t      tail\n",
            " gpgparsemail\t\t\t      tar\n",
            " gpgsm\t\t\t\t      taskset\n",
            " gpgsplit\t\t\t      tbl\n",
            " gpgtar\t\t\t\t      tcldocstrip\n",
            " gpgv\t\t\t\t      tclsh\n",
            " gpg-wks-server\t\t\t      tclsh8.6\n",
            " gpg-zip\t\t\t      tcltk-depends\n",
            " gpic\t\t\t\t      tee\n",
            " gprof\t\t\t\t      tempfile\n",
            " graphml2gv\t\t\t      tesseract\n",
            " grep\t\t\t\t      test\n",
            " gresource\t\t\t      text2image\n",
            " groff\t\t\t\t      tic\n",
            " grog\t\t\t\t      timedatectl\n",
            " grops\t\t\t\t      timeout\n",
            " grotty\t\t\t\t      tload\n",
            " groups\t\t\t\t      tmux\n",
            " gsettings\t\t\t      toe\n",
            " gtbl\t\t\t\t      top\n",
            " gtester\t\t\t      touch\n",
            " gtester-report\t\t\t      tput\n",
            " gtk-update-icon-cache\t\t      tr\n",
            " gunzip\t\t\t\t      tred\n",
            " gv2gml\t\t\t\t      troff\n",
            " gv2gxl\t\t\t\t      true\n",
            " gvcolor\t\t\t      truncate\n",
            " gvgen\t\t\t\t      ts\n",
            " gvmap\t\t\t\t      tset\n",
            " gvmap.sh\t\t\t      tsort\n",
            " gvpack\t\t\t\t      tty\n",
            " gvpr\t\t\t\t      twopi\n",
            " gxl2dot\t\t\t      tzselect\n",
            " gxl2gv\t\t\t\t      ucf\n",
            " gzexe\t\t\t\t      ucfq\n",
            " gzip\t\t\t\t      ucfr\n",
            " h2ph\t\t\t\t      uclampset\n",
            " h2xs\t\t\t\t      uconv\n",
            " h5c++\t\t\t\t      ul\n",
            " h5cc\t\t\t\t      ulockmgr_server\n",
            " h5fc\t\t\t\t      umount\n",
            " hardlink\t\t\t      uname\n",
            " hd\t\t\t\t      uncompress\n",
            " head\t\t\t\t      unexpand\n",
            " helpztags\t\t\t      unflatten\n",
            " hexdump\t\t\t      unicharset_extractor\n",
            " host\t\t\t\t      uniq\n",
            " hostid\t\t\t\t      unlink\n",
            " hostname\t\t\t      unlzma\n",
            " hostnamectl\t\t\t      unpack200\n",
            " i386\t\t\t\t      unpigz\n",
            " iconv\t\t\t\t      unrar\n",
            " icuexportdata\t\t\t      unrar-nonfree\n",
            " icuinfo\t\t\t      unshare\n",
            " id\t\t\t\t      unxz\n",
            " ifdata\t\t\t\t      unzip\n",
            " ifnames\t\t\t      unzipsfx\n",
            " ifne\t\t\t\t      update-alternatives\n",
            " infocmp\t\t\t      update-mime-database\n",
            " infotocap\t\t\t      uptime\n",
            " inspect\t\t\t      users\n",
            " install\t\t\t      utmpdump\n",
            " instmodsh\t\t\t      vdir\n",
            " ionice\t\t\t\t      vi\n",
            " ip\t\t\t\t      vidir\n",
            " ipcmk\t\t\t\t      view\n",
            " ipcrm\t\t\t\t      vim\n",
            " ipcs\t\t\t\t      vim.basic\n",
            " ischroot\t\t\t      vimdiff\n",
            " isutf8\t\t\t\t      vimdot\n",
            " jaotc\t\t\t\t      vimtutor\n",
            " jar\t\t\t\t      vipe\n",
            " jarsigner\t\t\t      vmstat\n",
            " java\t\t\t\t      w\n",
            " javac\t\t\t\t      wall\n",
            " javadoc\t\t\t      watch\n",
            " javap\t\t\t\t      watchgnupg\n",
            " jcmd\t\t\t\t      wc\n",
            " jdb\t\t\t\t      wdctl\n",
            " jdeprscan\t\t\t      wget\n",
            " jdeps\t\t\t\t      whatis\n",
            " jexec\t\t\t\t      whereis\n",
            " jfr\t\t\t\t      which\n",
            " jhsdb\t\t\t\t      which.debianutils\n",
            " jimage\t\t\t\t      who\n",
            " jinfo\t\t\t\t      whoami\n",
            " jjs\t\t\t\t      wish\n",
            " jlink\t\t\t\t      wish8.6\n",
            " jmap\t\t\t\t      wordlist2dawg\n",
            " jmod\t\t\t\t      write\n",
            " join\t\t\t\t      write.ul\n",
            " journalctl\t\t\t      X11\n",
            " jps\t\t\t\t      x86_64\n",
            " jq\t\t\t\t      x86_64-linux-gnu-addr2line\n",
            " jrunscript\t\t\t      x86_64-linux-gnu-ar\n",
            " jshell\t\t\t\t      x86_64-linux-gnu-as\n",
            " json_pp\t\t\t      x86_64-linux-gnu-c++filt\n",
            " jstack\t\t\t\t      x86_64-linux-gnu-cpp\n",
            " jstat\t\t\t\t      x86_64-linux-gnu-cpp-11\n",
            " jstatd\t\t\t\t      x86_64-linux-gnu-dwp\n",
            " kbxutil\t\t\t      x86_64-linux-gnu-elfedit\n",
            " kernel-install\t\t\t      x86_64-linux-gnu-g++\n",
            " keyring\t\t\t      x86_64-linux-gnu-g++-11\n",
            " keytool\t\t\t      x86_64-linux-gnu-gcc\n",
            " kill\t\t\t\t      x86_64-linux-gnu-gcc-11\n",
            " killall\t\t\t      x86_64-linux-gnu-gcc-ar\n",
            " kmod\t\t\t\t      x86_64-linux-gnu-gcc-ar-11\n",
            " krb5-config\t\t\t      x86_64-linux-gnu-gcc-nm\n",
            " krb5-config.mit\t\t      x86_64-linux-gnu-gcc-nm-11\n",
            " last\t\t\t\t      x86_64-linux-gnu-gcc-ranlib\n",
            " lastb\t\t\t\t      x86_64-linux-gnu-gcc-ranlib-11\n",
            " lastlog\t\t\t      x86_64-linux-gnu-gcov\n",
            " lcf\t\t\t\t      x86_64-linux-gnu-gcov-11\n",
            " lckdo\t\t\t\t      x86_64-linux-gnu-gcov-dump\n",
            " ld\t\t\t\t      x86_64-linux-gnu-gcov-dump-11\n",
            " ld.bfd\t\t\t\t      x86_64-linux-gnu-gcov-tool\n",
            " ldd\t\t\t\t      x86_64-linux-gnu-gcov-tool-11\n",
            " ld.gold\t\t\t      x86_64-linux-gnu-gfortran\n",
            " lefty\t\t\t\t      x86_64-linux-gnu-gfortran-11\n",
            " less\t\t\t\t      x86_64-linux-gnu-gold\n",
            " lessecho\t\t\t      x86_64-linux-gnu-gprof\n",
            " lessfile\t\t\t      x86_64-linux-gnu-ld\n",
            " lesskey\t\t\t      x86_64-linux-gnu-ld.bfd\n",
            " lesspipe\t\t\t      x86_64-linux-gnu-ld.gold\n",
            " lexgrog\t\t\t      x86_64-linux-gnu-lto-dump-11\n",
            " libnetcfg\t\t\t      x86_64-linux-gnu-nm\n",
            " libpng16-config\t\t      x86_64-linux-gnu-objcopy\n",
            " libpng-config\t\t\t      x86_64-linux-gnu-objdump\n",
            " link\t\t\t\t      x86_64-linux-gnu-pkg-config\n",
            " linux32\t\t\t      x86_64-linux-gnu-python3.10-config\n",
            " linux64\t\t\t      x86_64-linux-gnu-python3.12-config\n",
            " ln\t\t\t\t      x86_64-linux-gnu-python3-config\n",
            " lneato\t\t\t\t      x86_64-linux-gnu-ranlib\n",
            " lnstat\t\t\t\t      x86_64-linux-gnu-readelf\n",
            " locale\t\t\t\t      x86_64-linux-gnu-size\n",
            " locale-check\t\t\t      x86_64-linux-gnu-strings\n",
            " localectl\t\t\t      x86_64-linux-gnu-strip\n",
            " localedef\t\t\t      xargs\n",
            " logger\t\t\t\t      xauth\n",
            " login\t\t\t\t      xdg-desktop-icon\n",
            " loginctl\t\t\t      xdg-desktop-menu\n",
            " logname\t\t\t      xdg-email\n",
            " look\t\t\t\t      xdg-icon-resource\n",
            " ls\t\t\t\t      xdg-mime\n",
            " lsattr\t\t\t\t      xdg-open\n",
            " lsblk\t\t\t\t      xdg-screensaver\n",
            " lsb_release\t\t\t      xdg-settings\n",
            " lscpu\t\t\t\t      xkbbell\n",
            " lsipc\t\t\t\t      xkbcomp\n",
            " lslocks\t\t\t      xkbevd\n",
            " lslogins\t\t\t      xkbprint\n",
            " lsmem\t\t\t\t      xkbvleds\n",
            " lsmod\t\t\t\t      xkbwatch\n",
            " lsns\t\t\t\t      xml2-config\n",
            " lsof\t\t\t\t      xsubpp\n",
            " lspgpot\t\t\t      Xvfb\n",
            " lstmeval\t\t\t      xvfb-run\n",
            " lstmtraining\t\t\t      xxd\n",
            " lto-dump-11\t\t\t      xz\n",
            " lzcat\t\t\t\t      xzcat\n",
            " lzcmp\t\t\t\t      xzcmp\n",
            " lzdiff\t\t\t\t      xzdiff\n",
            " lzegrep\t\t\t      xzegrep\n",
            " lzfgrep\t\t\t      xzfgrep\n",
            " lzgrep\t\t\t\t      xzgrep\n",
            " lzless\t\t\t\t      xzless\n",
            " lzma\t\t\t\t      xzmore\n",
            " lzmainfo\t\t\t      yes\n",
            " lzmore\t\t\t\t      ypdomainname\n",
            " m4\t\t\t\t      zcat\n",
            " make\t\t\t\t      zcmp\n",
            " makeconv\t\t\t      zdiff\n",
            " make-first-existing-target\t      zdump\n",
            " mako-render\t\t\t      zegrep\n",
            " man\t\t\t\t      zfgrep\n",
            " mandb\t\t\t\t      zforce\n",
            " manpath\t\t\t      zgrep\n",
            " man.REAL\t\t\t      zip\n",
            " man-recode\t\t\t      zipcloak\n",
            " markdown_py\t\t\t      zipdetails\n",
            " mawk\t\t\t\t      zipgrep\n",
            " mcookie\t\t\t      zipinfo\n",
            " md5sum\t\t\t\t      zipnote\n",
            " md5sum.textutils\t\t      zipsplit\n",
            " mdig\t\t\t\t      zless\n",
            " merge_unicharsets\t\t      zmore\n",
            " mesg\t\t\t\t      znew\n",
            " mftraining\t\t\t      zrun\n"
          ]
        }
      ],
      "source": [
        "!ls /bin"
      ]
    },
    {
      "cell_type": "markdown",
      "metadata": {
        "id": "y8Da6JWKQSHh"
      },
      "source": [
        "That `!ls` probably generated a large output. You can select the cell and clear the output by either:\n",
        "\n",
        "1. Clicking on the clear output button (x) in the toolbar above the cell; or\n",
        "2. Right clicking the left gutter of the output area and selecting \"Clear output\" from the context menu.\n",
        "\n",
        "Execute any other process using `!` with string interpolation from python variables, and note the result can be assigned to a variable:"
      ]
    },
    {
      "cell_type": "code",
      "execution_count": 4,
      "metadata": {
        "cellView": "both",
        "id": "zqGrv0blQSHj",
        "outputId": "7a9ad8e4-281a-4a45-888c-b660c4b92567",
        "colab": {
          "base_uri": "https://localhost:8080/"
        }
      },
      "outputs": [
        {
          "output_type": "execute_result",
          "data": {
            "text/plain": [
              "['Colaboratory is great!',\n",
              " 'Colaboratory is great!',\n",
              " 'Colaboratory is great!',\n",
              " 'Colaboratory is great!']"
            ]
          },
          "metadata": {},
          "execution_count": 4
        }
      ],
      "source": [
        "# In https://github.com/ipython/ipython/pull/10545, single quote strings are ignored\n",
        "message = 'Colaboratory is great!'\n",
        "foo = !unset message && echo -e '{message}\\n{message}\\n'$message\"\\n$message\"\n",
        "foo"
      ]
    },
    {
      "cell_type": "markdown",
      "metadata": {
        "id": "qM4myQGfQboQ"
      },
      "source": [
        "## Magics\n",
        "Colaboratory shares the notion of magics from Jupyter. There are shorthand annotations that change how a cell's text is executed. To learn more, see [Jupyter's magics page](http://nbviewer.jupyter.org/github/ipython/ipython/blob/1.x/examples/notebooks/Cell%20Magics.ipynb).\n",
        "\n",
        "Changed Marquee from wheel to Robert"
      ]
    },
    {
      "cell_type": "code",
      "execution_count": 5,
      "metadata": {
        "cellView": "both",
        "colab": {
          "height": 39,
          "base_uri": "https://localhost:8080/"
        },
        "id": "odfM-_GxWbCy",
        "outputId": "15f169c2-026c-475e-cf5e-9f1c6478f6f2"
      },
      "outputs": [
        {
          "output_type": "display_data",
          "data": {
            "text/plain": [
              "<IPython.core.display.HTML object>"
            ],
            "text/html": [
              "<marquee style='width: 30%; color: blue;'><b>Robert</b></marquee>\n"
            ]
          },
          "metadata": {}
        }
      ],
      "source": [
        "%%html\n",
        "<marquee style='width: 30%; color: blue;'><b>Robert</b></marquee>"
      ]
    },
    {
      "cell_type": "code",
      "execution_count": 6,
      "metadata": {
        "colab": {
          "height": 221,
          "base_uri": "https://localhost:8080/"
        },
        "id": "_YrTcK7k22Fp",
        "outputId": "d3554e6e-d522-458b-f864-9f9c0bb9e4e7"
      },
      "outputs": [
        {
          "output_type": "display_data",
          "data": {
            "text/plain": [
              "<IPython.core.display.HTML object>"
            ],
            "text/html": [
              "<svg xmlns=\"http://www.w3.org/2000/svg\" viewBox=\"0 0 450 400\" width=\"200\" height=\"200\">\n",
              "  <rect x=\"80\" y=\"60\" width=\"250\" height=\"250\" rx=\"20\" style=\"fill:red; stroke:black; fill-opacity:0.7\" />\n",
              "  <rect x=\"180\" y=\"110\" width=\"250\" height=\"250\" rx=\"40\" style=\"fill:blue; stroke:black; fill-opacity:0.5;\" />\n",
              "</svg>\n"
            ]
          },
          "metadata": {}
        }
      ],
      "source": [
        "%%html\n",
        "<svg xmlns=\"http://www.w3.org/2000/svg\" viewBox=\"0 0 450 400\" width=\"200\" height=\"200\">\n",
        "  <rect x=\"80\" y=\"60\" width=\"250\" height=\"250\" rx=\"20\" style=\"fill:red; stroke:black; fill-opacity:0.7\" />\n",
        "  <rect x=\"180\" y=\"110\" width=\"250\" height=\"250\" rx=\"40\" style=\"fill:blue; stroke:black; fill-opacity:0.5;\" />\n",
        "</svg>"
      ]
    },
    {
      "cell_type": "markdown",
      "metadata": {
        "id": "d4L9TOP9QSHn"
      },
      "source": [
        "## Automatic completions and exploring code\n",
        "\n",
        "Colab provides automatic completions to explore attributes of Python objects, as well as to quickly view documentation strings. As an example, first run the following cell to import the  [`numpy`](http://www.numpy.org) module."
      ]
    },
    {
      "cell_type": "code",
      "execution_count": 7,
      "metadata": {
        "cellView": "both",
        "id": "Q0JKWcmtQSHp"
      },
      "outputs": [],
      "source": [
        "import numpy as np"
      ]
    },
    {
      "cell_type": "markdown",
      "metadata": {
        "id": "1M890-bXeyYp"
      },
      "source": [
        "If you now insert your cursor after `np` and press **Period**(`.`), you will see the list of available completions within the `np` module. Completions can be opened again by using **Ctrl+Space**."
      ]
    },
    {
      "cell_type": "code",
      "execution_count": 8,
      "metadata": {
        "cellView": "both",
        "colab": {
          "base_uri": "https://localhost:8080/"
        },
        "id": "j6QRIfUHQSHq",
        "outputId": "27a8a6ac-a3fe-42a7-a596-f989df04ed32"
      },
      "outputs": [
        {
          "output_type": "execute_result",
          "data": {
            "text/plain": [
              "<module 'numpy' from '/usr/local/lib/python3.12/dist-packages/numpy/__init__.py'>"
            ]
          },
          "metadata": {},
          "execution_count": 8
        }
      ],
      "source": [
        "np"
      ]
    },
    {
      "cell_type": "markdown",
      "metadata": {
        "id": "g6MfomFhQSHs"
      },
      "source": [
        "If you type an open parenthesis after any function or class in the module, you will see a pop-up of its documentation string:"
      ]
    },
    {
      "cell_type": "code",
      "execution_count": 9,
      "metadata": {
        "cellView": "both",
        "colab": {
          "base_uri": "https://localhost:8080/"
        },
        "id": "SD0XnrVhQSHt",
        "outputId": "188ae64a-ba25-45c2-ddc5-9479625ac213"
      },
      "outputs": [
        {
          "output_type": "execute_result",
          "data": {
            "text/plain": [
              "numpy.ndarray"
            ]
          },
          "metadata": {},
          "execution_count": 9
        }
      ],
      "source": [
        "np.ndarray"
      ]
    },
    {
      "cell_type": "markdown",
      "metadata": {
        "id": "GVIVDgdaRjPQ"
      },
      "source": [
        "The documentation can be opened again using **Ctrl+Shift+Space** or you can view the documentation for method by mouse hovering over the method name.\n",
        "\n",
        "When hovering over the method name the `Open in tab` link will open the documentation in a persistent pane. The `View source` link will navigate to the source code for the method."
      ]
    },
    {
      "cell_type": "code",
      "source": [],
      "metadata": {
        "id": "DN606L-RjX2V"
      },
      "execution_count": 9,
      "outputs": []
    },
    {
      "cell_type": "markdown",
      "metadata": {
        "id": "TYTBdJXxfqiJ"
      },
      "source": [
        "## Exception Formatting"
      ]
    },
    {
      "cell_type": "markdown",
      "metadata": {
        "id": "4bqAVK-aQSHx"
      },
      "source": [
        "Exceptions are formatted nicely in Colab outputs:"
      ]
    },
    {
      "cell_type": "code",
      "execution_count": 10,
      "metadata": {
        "cellView": "both",
        "colab": {
          "base_uri": "https://localhost:8080/",
          "height": 176
        },
        "id": "CrJf1PEmQSHx",
        "outputId": "b2e69565-f2a2-409b-9de7-919a0d54ea1e"
      },
      "outputs": [
        {
          "output_type": "error",
          "ename": "ZeroDivisionError",
          "evalue": "division by zero",
          "traceback": [
            "\u001b[0;31m---------------------------------------------------------------------------\u001b[0m",
            "\u001b[0;31mZeroDivisionError\u001b[0m                         Traceback (most recent call last)",
            "\u001b[0;32m/tmp/ipython-input-340695232.py\u001b[0m in \u001b[0;36m<cell line: 0>\u001b[0;34m()\u001b[0m\n\u001b[1;32m      1\u001b[0m \u001b[0mx\u001b[0m \u001b[0;34m=\u001b[0m \u001b[0;36m1\u001b[0m\u001b[0;34m\u001b[0m\u001b[0;34m\u001b[0m\u001b[0m\n\u001b[1;32m      2\u001b[0m \u001b[0my\u001b[0m \u001b[0;34m=\u001b[0m \u001b[0;36m4\u001b[0m\u001b[0;34m\u001b[0m\u001b[0;34m\u001b[0m\u001b[0m\n\u001b[0;32m----> 3\u001b[0;31m \u001b[0mz\u001b[0m \u001b[0;34m=\u001b[0m \u001b[0my\u001b[0m\u001b[0;34m/\u001b[0m\u001b[0;34m(\u001b[0m\u001b[0;36m1\u001b[0m\u001b[0;34m-\u001b[0m\u001b[0mx\u001b[0m\u001b[0;34m)\u001b[0m\u001b[0;34m\u001b[0m\u001b[0;34m\u001b[0m\u001b[0m\n\u001b[0m",
            "\u001b[0;31mZeroDivisionError\u001b[0m: division by zero"
          ]
        }
      ],
      "source": [
        "x = 1\n",
        "y = 4\n",
        "z = y/(1-x)"
      ]
    },
    {
      "cell_type": "markdown",
      "source": [
        "\"EDIT MADE HERE\". in Margque from Wheel to Robert"
      ],
      "metadata": {
        "id": "VMRFVclckQjo"
      }
    },
    {
      "cell_type": "markdown",
      "metadata": {
        "id": "7cRnhv_7N4Pa"
      },
      "source": [
        "## Rich, interactive outputs\n",
        "Until now all of the generated outputs have been text, but they can be more interesting, like the chart below."
      ]
    },
    {
      "cell_type": "code",
      "execution_count": null,
      "metadata": {
        "id": "JVXnTqyE9RET"
      },
      "outputs": [],
      "source": [
        "import numpy as np\n",
        "from matplotlib import pyplot as plt\n",
        "\n",
        "ys = 200 + np.random.randn(100)\n",
        "x = [x for x in range(len(ys))]\n",
        "\n",
        "plt.plot(x, ys, '-')\n",
        "plt.fill_between(x, ys, 195, where=(ys > 195), facecolor='g', alpha=0.6)\n",
        "\n",
        "plt.title(\"Fills and Alpha Example\")\n",
        "plt.show()"
      ]
    },
    {
      "cell_type": "markdown",
      "metadata": {
        "id": "aro-UJgUQSH1"
      },
      "source": [
        "# Integration with Drive\n",
        "\n",
        "Colaboratory is integrated with Google Drive. It allows you to share, comment, and collaborate on the same document with multiple people:\n",
        "\n",
        "* The **SHARE** button (top-right of the toolbar) allows you to share the notebook and control permissions set on it.\n",
        "\n",
        "* **File->Make a Copy** creates a copy of the notebook in Drive.\n",
        "\n",
        "* **File->Save** saves the File to Drive. **File->Save and checkpoint** pins the version so it doesn't get deleted from the revision history.\n",
        "\n",
        "* **File->Revision history** shows the notebook's revision history.\n",
        "\n",
        "Looked at Cell contents\n",
        "\"EDIT MADE HERE\"."
      ]
    },
    {
      "cell_type": "markdown",
      "metadata": {
        "id": "4hfV37gxpP_c"
      },
      "source": [
        "## Commenting on a cell\n",
        "\n",
        "Reviewed the cell \"EDIT MADE HERE\".\n",
        "You can comment on a Colaboratory notebook like you would on a Google Document. Comments are attached to cells, and are displayed next to the cell they refer to. If you have **comment-only** permissions, you will see a comment button on the top right of the cell when you hover over it.\n",
        "\n",
        "If you have edit or comment permissions you can comment on a cell in one of three ways:\n",
        "\n",
        "1. Select a cell and click the comment button in the toolbar above the top-right corner of the cell.\n",
        "1. Right click a text cell and select **Add a comment** from the context menu.\n",
        "3. Use the shortcut **Ctrl+Shift+M** to add a comment to the currently selected cell.\n",
        "\n",
        "You can resolve and reply to comments, and you can target comments to specific collaborators by typing *+[email address]* (e.g., `+user@domain.com`). Addressed collaborators will be emailed.\n",
        "\n",
        "The Comment button in the top-right corner of the page shows all comments attached to the notebook."
      ]
    }
  ],
  "metadata": {
    "colab": {
      "toc_visible": true,
      "provenance": [],
      "include_colab_link": true
    },
    "kernelspec": {
      "display_name": "Python 3",
      "name": "python3"
    }
  },
  "nbformat": 4,
  "nbformat_minor": 0
}